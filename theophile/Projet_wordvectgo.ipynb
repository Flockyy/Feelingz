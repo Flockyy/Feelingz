{
 "cells": [
  {
   "cell_type": "code",
   "execution_count": 49,
   "metadata": {},
   "outputs": [],
   "source": [
    "import pandas as pd\n",
    "import nltk as nltk\n",
    "import texthero as hero\n",
    "from sklearn.model_selection import train_test_split\n",
    "\n",
    "import re\n",
    "from nltk.tokenize import word_tokenize\n",
    "import gensim\n",
    "import string\n",
    "from nltk.probability import FreqDist\n",
    "from tensorflow.keras.optimizers import Adam\n"
   ]
  },
  {
   "cell_type": "code",
   "execution_count": 50,
   "metadata": {},
   "outputs": [],
   "source": [
    "df = pd.read_csv('text_emotion.csv')\n",
    "\n",
    "dfTweet = df.drop(['tweet_id','author'],axis = 1)\n",
    "dfTweet=dfTweet.applymap(str.lower)\n",
    "\n",
    "dfJournal = pd.read_csv('Emotion_final.csv')\n",
    "dfJournal=dfJournal.applymap(str.lower)\n",
    "\n",
    "dfgo = pd.read_csv('go_emotions_dataset.csv')\n",
    "dfTweet.rename(columns={'sentiment': 'Emotion', \n",
    "                           'content': 'Text'}, inplace=True)"
   ]
  },
  {
   "cell_type": "code",
   "execution_count": 51,
   "metadata": {},
   "outputs": [],
   "source": [
    "dfgo = dfgo.drop(dfgo[dfgo.example_very_unclear == True].index)\n",
    "RangeEmotiondfgo = ['admiration','amusement','anger','annoyance','approval','caring','confusion','curiosity','desire','disappointment','disapproval','disgust','embarrassment','excitement','fear','gratitude','grief','joy','love','nervousness','optimism','pride','realization','relief','remorse','sadness','surprise','neutral']"
   ]
  },
  {
   "cell_type": "code",
   "execution_count": 52,
   "metadata": {},
   "outputs": [
    {
     "data": {
      "text/html": [
       "<div>\n",
       "<style scoped>\n",
       "    .dataframe tbody tr th:only-of-type {\n",
       "        vertical-align: middle;\n",
       "    }\n",
       "\n",
       "    .dataframe tbody tr th {\n",
       "        vertical-align: top;\n",
       "    }\n",
       "\n",
       "    .dataframe thead th {\n",
       "        text-align: right;\n",
       "    }\n",
       "</style>\n",
       "<table border=\"1\" class=\"dataframe\">\n",
       "  <thead>\n",
       "    <tr style=\"text-align: right;\">\n",
       "      <th></th>\n",
       "      <th>Text</th>\n",
       "      <th>Emotion</th>\n",
       "    </tr>\n",
       "  </thead>\n",
       "  <tbody>\n",
       "    <tr>\n",
       "      <th>0</th>\n",
       "      <td>That game hurt.</td>\n",
       "      <td>sadness</td>\n",
       "    </tr>\n",
       "    <tr>\n",
       "      <th>2</th>\n",
       "      <td>You do right, if you don't care then fuck 'em!</td>\n",
       "      <td>neutral</td>\n",
       "    </tr>\n",
       "    <tr>\n",
       "      <th>3</th>\n",
       "      <td>Man I love reddit.</td>\n",
       "      <td>love</td>\n",
       "    </tr>\n",
       "    <tr>\n",
       "      <th>4</th>\n",
       "      <td>[NAME] was nowhere near them, he was by the Fa...</td>\n",
       "      <td>neutral</td>\n",
       "    </tr>\n",
       "    <tr>\n",
       "      <th>5</th>\n",
       "      <td>Right? Considering it’s such an important docu...</td>\n",
       "      <td>gratitude</td>\n",
       "    </tr>\n",
       "    <tr>\n",
       "      <th>...</th>\n",
       "      <td>...</td>\n",
       "      <td>...</td>\n",
       "    </tr>\n",
       "    <tr>\n",
       "      <th>211219</th>\n",
       "      <td>Well, I'm glad you're out of all that now. How...</td>\n",
       "      <td>joy</td>\n",
       "    </tr>\n",
       "    <tr>\n",
       "      <th>211220</th>\n",
       "      <td>Everyone likes [NAME].</td>\n",
       "      <td>love</td>\n",
       "    </tr>\n",
       "    <tr>\n",
       "      <th>211221</th>\n",
       "      <td>Well when you’ve imported about a gazillion of...</td>\n",
       "      <td>caring</td>\n",
       "    </tr>\n",
       "    <tr>\n",
       "      <th>211222</th>\n",
       "      <td>That looks amazing</td>\n",
       "      <td>admiration</td>\n",
       "    </tr>\n",
       "    <tr>\n",
       "      <th>211223</th>\n",
       "      <td>The FDA has plenty to criticize. But like here...</td>\n",
       "      <td>anger</td>\n",
       "    </tr>\n",
       "  </tbody>\n",
       "</table>\n",
       "<p>207814 rows × 2 columns</p>\n",
       "</div>"
      ],
      "text/plain": [
       "                                                     Text     Emotion\n",
       "0                                         That game hurt.     sadness\n",
       "2          You do right, if you don't care then fuck 'em!     neutral\n",
       "3                                      Man I love reddit.        love\n",
       "4       [NAME] was nowhere near them, he was by the Fa...     neutral\n",
       "5       Right? Considering it’s such an important docu...   gratitude\n",
       "...                                                   ...         ...\n",
       "211219  Well, I'm glad you're out of all that now. How...         joy\n",
       "211220                             Everyone likes [NAME].        love\n",
       "211221  Well when you’ve imported about a gazillion of...      caring\n",
       "211222                                 That looks amazing  admiration\n",
       "211223  The FDA has plenty to criticize. But like here...       anger\n",
       "\n",
       "[207814 rows x 2 columns]"
      ]
     },
     "execution_count": 52,
     "metadata": {},
     "output_type": "execute_result"
    }
   ],
   "source": [
    "dfgo['Emotion'] = dfgo[RangeEmotiondfgo].idxmax(axis=1)\n",
    "dfgo = dfgo.drop(RangeEmotiondfgo,axis=1)\n",
    "dfgo = dfgo.drop(['example_very_unclear','id'],axis=1)\n",
    "dfgo"
   ]
  },
  {
   "cell_type": "code",
   "execution_count": 53,
   "metadata": {},
   "outputs": [
    {
     "data": {
      "text/html": [
       "<div>\n",
       "<style scoped>\n",
       "    .dataframe tbody tr th:only-of-type {\n",
       "        vertical-align: middle;\n",
       "    }\n",
       "\n",
       "    .dataframe tbody tr th {\n",
       "        vertical-align: top;\n",
       "    }\n",
       "\n",
       "    .dataframe thead th {\n",
       "        text-align: right;\n",
       "    }\n",
       "</style>\n",
       "<table border=\"1\" class=\"dataframe\">\n",
       "  <thead>\n",
       "    <tr style=\"text-align: right;\">\n",
       "      <th></th>\n",
       "      <th>Text</th>\n",
       "      <th>Emotion</th>\n",
       "    </tr>\n",
       "  </thead>\n",
       "  <tbody>\n",
       "    <tr>\n",
       "      <th>0</th>\n",
       "      <td>That game hurt.</td>\n",
       "      <td>sadness</td>\n",
       "    </tr>\n",
       "    <tr>\n",
       "      <th>2</th>\n",
       "      <td>You do right, if you don't care then fuck 'em!</td>\n",
       "      <td>neutral</td>\n",
       "    </tr>\n",
       "    <tr>\n",
       "      <th>3</th>\n",
       "      <td>Man I love reddit.</td>\n",
       "      <td>love</td>\n",
       "    </tr>\n",
       "    <tr>\n",
       "      <th>4</th>\n",
       "      <td>[NAME] was nowhere near them, he was by the Fa...</td>\n",
       "      <td>neutral</td>\n",
       "    </tr>\n",
       "    <tr>\n",
       "      <th>5</th>\n",
       "      <td>Right? Considering it’s such an important docu...</td>\n",
       "      <td>gratitude</td>\n",
       "    </tr>\n",
       "    <tr>\n",
       "      <th>...</th>\n",
       "      <td>...</td>\n",
       "      <td>...</td>\n",
       "    </tr>\n",
       "    <tr>\n",
       "      <th>211219</th>\n",
       "      <td>Well, I'm glad you're out of all that now. How...</td>\n",
       "      <td>joy</td>\n",
       "    </tr>\n",
       "    <tr>\n",
       "      <th>211220</th>\n",
       "      <td>Everyone likes [NAME].</td>\n",
       "      <td>love</td>\n",
       "    </tr>\n",
       "    <tr>\n",
       "      <th>211221</th>\n",
       "      <td>Well when you’ve imported about a gazillion of...</td>\n",
       "      <td>caring</td>\n",
       "    </tr>\n",
       "    <tr>\n",
       "      <th>211222</th>\n",
       "      <td>That looks amazing</td>\n",
       "      <td>admiration</td>\n",
       "    </tr>\n",
       "    <tr>\n",
       "      <th>211223</th>\n",
       "      <td>The FDA has plenty to criticize. But like here...</td>\n",
       "      <td>anger</td>\n",
       "    </tr>\n",
       "  </tbody>\n",
       "</table>\n",
       "<p>207814 rows × 2 columns</p>\n",
       "</div>"
      ],
      "text/plain": [
       "                                                     Text     Emotion\n",
       "0                                         That game hurt.     sadness\n",
       "2          You do right, if you don't care then fuck 'em!     neutral\n",
       "3                                      Man I love reddit.        love\n",
       "4       [NAME] was nowhere near them, he was by the Fa...     neutral\n",
       "5       Right? Considering it’s such an important docu...   gratitude\n",
       "...                                                   ...         ...\n",
       "211219  Well, I'm glad you're out of all that now. How...         joy\n",
       "211220                             Everyone likes [NAME].        love\n",
       "211221  Well when you’ve imported about a gazillion of...      caring\n",
       "211222                                 That looks amazing  admiration\n",
       "211223  The FDA has plenty to criticize. But like here...       anger\n",
       "\n",
       "[207814 rows x 2 columns]"
      ]
     },
     "execution_count": 53,
     "metadata": {},
     "output_type": "execute_result"
    }
   ],
   "source": [
    "dfgo.Emotion.value_counts()\n",
    "dfgo"
   ]
  },
  {
   "cell_type": "code",
   "execution_count": 54,
   "metadata": {},
   "outputs": [],
   "source": [
    "# dfJournal.Emotion.value_counts()\n",
    "# dfJournal"
   ]
  },
  {
   "cell_type": "code",
   "execution_count": 55,
   "metadata": {},
   "outputs": [],
   "source": [
    "dfJournal = dfJournal.append(dfTweet)\n",
    "dfTweet = 0\n",
    "dfJournal = dfJournal.append(dfgo)\n",
    "dfgo = 0"
   ]
  },
  {
   "cell_type": "code",
   "execution_count": 56,
   "metadata": {},
   "outputs": [],
   "source": [
    "dfJournal.Emotion.replace({'happy': 'happiness'}, regex=True,inplace=True)\n",
    "#dfJournal.Emotion.replace({'fear': 'anger'}, regex=True,inplace=True)\n",
    "#dfJournal.Emotion.replace({'joy': 'happiness'}, regex=True,inplace=True)\n",
    "#dfJournal.Emotion.replace({'fun': 'happiness'}, regex=True,inplace=True)\n",
    "#dfJournal.Emotion.replace({'disgust': 'anger'}, regex=True,inplace=True)\n",
    "dfJournal = dfJournal.reset_index()\n",
    "# dfJournal.Emotion.replace({'empty': 'neutral'}, regex=True,inplace=True)\n",
    "# dfJournal.Emotion.replace({'boredom': 'neutral'}, regex=True,inplace=True)\n",
    "# dfJournal.Emotion.replace({'hate': 'sadness'}, regex=True,inplace=True)\n",
    "# dfJournal.Emotion.replace({'worry': 'surprise'}, regex=True,inplace=True)\n",
    "\n",
    "\n",
    "df = dfJournal[dfJournal.Emotion == 'happiness'].index\n",
    "df = df.append(dfJournal[dfJournal.Emotion == 'anger'].index)\n",
    "df = df.append(dfJournal[dfJournal.Emotion == 'love'].index)\n",
    "df = df.append(dfJournal[dfJournal.Emotion == 'sadness'].index)\n",
    "# dfJournal\n",
    "\n",
    "df2 = dfJournal.iloc[df]\n"
   ]
  },
  {
   "cell_type": "code",
   "execution_count": 57,
   "metadata": {},
   "outputs": [],
   "source": [
    "#df = pd.DataFrame(df)\n",
    "df = df2.reset_index()"
   ]
  },
  {
   "cell_type": "code",
   "execution_count": 58,
   "metadata": {},
   "outputs": [
    {
     "data": {
      "text/plain": [
       "sadness      15293\n",
       "happiness    12238\n",
       "anger        11059\n",
       "love         10793\n",
       "Name: Emotion, dtype: int64"
      ]
     },
     "execution_count": 58,
     "metadata": {},
     "output_type": "execute_result"
    }
   ],
   "source": [
    "df = df.drop(['level_0','index'],axis = 1)\n",
    "df.Emotion.value_counts()"
   ]
  },
  {
   "cell_type": "code",
   "execution_count": 59,
   "metadata": {},
   "outputs": [],
   "source": [
    "categoriesLabel = df['Emotion'].unique()\n",
    "df.Emotion.replace({'happiness': 0}, regex=True,inplace=True)\n",
    "df.Emotion.replace({'anger': 1}, regex=True,inplace=True)\n",
    "df.Emotion.replace({'love': 2}, regex=True,inplace=True)\n",
    "df.Emotion.replace({'sadness': 3}, regex=True,inplace=True)\n",
    "\n",
    "nb_labels = len(dfJournal.Emotion.value_counts())\n"
   ]
  },
  {
   "cell_type": "code",
   "execution_count": 60,
   "metadata": {},
   "outputs": [],
   "source": [
    "from nltk.corpus import stopwords\n",
    "stop = stopwords.words('english')\n",
    "stop = list(set(stop) - set(['not','no']))\n",
    "lemmatizer = nltk.stem.WordNetLemmatizer()\n",
    "\n",
    "def tweets_cleaning(tweet, remove_emojis=True):\n",
    "    \"\"\"Apply function to a clean a tweet\"\"\"\n",
    "    tweet = tweet.lower().strip()\n",
    "    # romove urls\n",
    "    url = re.compile(r'https?://\\S+|www\\.\\S+')\n",
    "    tweet = url.sub(r'',tweet)\n",
    "    # remove html tags\n",
    "    html = re.compile(r'<.*?>')\n",
    "    tweet = html.sub(r'',tweet)\n",
    "    # remove punctuation\n",
    "    operator = str.maketrans('','',string.punctuation) #????\n",
    "    tweet = tweet.translate(operator)\n",
    "    if remove_emojis:\n",
    "        tweet = tweet.encode('ascii', 'ignore').decode('utf8').strip()\n",
    "    lambda tweet: re.sub(r'https?:\\/\\/\\S+', '', tweet)\n",
    "    lambda tweet: re.sub(r\"www\\.[a-z]?\\.?(com)+|[a-z]+\\.(com)\", '', tweet)\n",
    "    tweet=re.sub(r'@[A-Za-z0-9]+',\" \",tweet) ##Removing the usernames\n",
    "    tweet=re.sub(r'^[A-Za-z0-9.!?]+',\" \",tweet) ##Removing digits and punctuations\n",
    "    tweet=re.sub(r'https?://[A-Za-z0-9./]+',\" \",tweet) ## removing links\n",
    "    tweet=re.sub(r' +',\" \",tweet)\n",
    "    tweet = tweet.lower()\n",
    "    tweet = re.sub(r\"\\'s\", \" \", tweet)\n",
    "    tweet = re.sub(r\"\\'ve\", \" have \", tweet)\n",
    "    tweet = re.sub(r\"can't\", \"cannot \", tweet)\n",
    "    tweet = re.sub(r\"n't\", \" not \", tweet)\n",
    "    tweet = re.sub(r\"\\'d\", \" would \", tweet)\n",
    "    tweet = re.sub(r\"\\'ll\", \" will \", tweet)\n",
    "    tweet = re.sub(r\"\\'scuse\", \" excuse \", tweet)\n",
    "    tweet = tweet.strip(' ')\n",
    "    tweet = tweet.strip('. .')\n",
    "    tweet = tweet.replace('.',' ')\n",
    "    tweet = tweet.replace('-',' ')\n",
    "    tweet = tweet.replace(\"’\", \"'\").replace(\"′\", \"'\").replace(\"%\", \" percent \").replace(\"₹\", \" rupee \").replace(\"$\", \" dollar \")\n",
    "    tweet = tweet.replace(\"won't\", \"will not\").replace(\"cannot\", \"can not\").replace(\"can't\", \"can not\")\n",
    "    tweet = tweet.replace(\"€\", \" euro \").replace(\"'ll\", \" will\")\n",
    "    tweet = tweet.replace(\"don't\", \"do not\").replace(\"didn't\", \"did not\").replace(\"im\",\"i am\").replace(\"it's\", \"it is\")\n",
    "    tweet = tweet.replace(\",000,000\", \"m\").replace(\"n't\", \" not\").replace(\"what's\", \"what is\")\n",
    "    tweet = tweet.replace(\",000\", \"k\").replace(\"'ve\", \" have\").replace(\"i'm\", \"i am\").replace(\"'re\", \" are\")\n",
    "    tweet = tweet.replace(\"he's\", \"he is\").replace(\"she's\", \"she is\").replace(\"'s\", \" own\")\n",
    "    tweet = tweet.replace(\"didnt\",\"did not\")\n",
    "    tweet = re.sub('\\s+', ' ', tweet)\n",
    "    tweet=tweet.split()\n",
    "    tweet=[lemmatizer.lemmatize(word) for word in tweet if word not in stop]\n",
    "    tweet=' '.join(word for word in tweet)\n",
    "    return tweet.lower()"
   ]
  },
  {
   "cell_type": "code",
   "execution_count": 61,
   "metadata": {},
   "outputs": [
    {
     "data": {
      "text/html": [
       "<div>\n",
       "<style scoped>\n",
       "    .dataframe tbody tr th:only-of-type {\n",
       "        vertical-align: middle;\n",
       "    }\n",
       "\n",
       "    .dataframe tbody tr th {\n",
       "        vertical-align: top;\n",
       "    }\n",
       "\n",
       "    .dataframe thead th {\n",
       "        text-align: right;\n",
       "    }\n",
       "</style>\n",
       "<table border=\"1\" class=\"dataframe\">\n",
       "  <thead>\n",
       "    <tr style=\"text-align: right;\">\n",
       "      <th></th>\n",
       "      <th>Text</th>\n",
       "      <th>Emotion</th>\n",
       "      <th>clean_text</th>\n",
       "    </tr>\n",
       "  </thead>\n",
       "  <tbody>\n",
       "    <tr>\n",
       "      <th>0</th>\n",
       "      <td>i have been with petronas for years i feel tha...</td>\n",
       "      <td>0</td>\n",
       "      <td>petronas year feel petronas performed well mad...</td>\n",
       "    </tr>\n",
       "    <tr>\n",
       "      <th>1</th>\n",
       "      <td>i do feel that running is a divine experience ...</td>\n",
       "      <td>0</td>\n",
       "      <td>feel running divine experience expect type spi...</td>\n",
       "    </tr>\n",
       "    <tr>\n",
       "      <th>2</th>\n",
       "      <td>i have immense sympathy with the general point...</td>\n",
       "      <td>0</td>\n",
       "      <td>ammense sympathy general point possible proto ...</td>\n",
       "    </tr>\n",
       "    <tr>\n",
       "      <th>3</th>\n",
       "      <td>i do not feel reassured anxiety is on each side</td>\n",
       "      <td>0</td>\n",
       "      <td>not feel reassured anxiety side</td>\n",
       "    </tr>\n",
       "    <tr>\n",
       "      <th>4</th>\n",
       "      <td>i have the feeling she was amused and delighted</td>\n",
       "      <td>0</td>\n",
       "      <td>feeling amused delighted</td>\n",
       "    </tr>\n",
       "    <tr>\n",
       "      <th>...</th>\n",
       "      <td>...</td>\n",
       "      <td>...</td>\n",
       "      <td>...</td>\n",
       "    </tr>\n",
       "    <tr>\n",
       "      <th>49378</th>\n",
       "      <td>I pity them more than anything. My life's actu...</td>\n",
       "      <td>3</td>\n",
       "      <td>pity anything life actually pretty okay genera...</td>\n",
       "    </tr>\n",
       "    <tr>\n",
       "      <th>49379</th>\n",
       "      <td>Everytime I see this, I can't help but feel so...</td>\n",
       "      <td>3</td>\n",
       "      <td>see cant help feel someone force cat paw brownie</td>\n",
       "    </tr>\n",
       "    <tr>\n",
       "      <th>49380</th>\n",
       "      <td>Sadly no, everything was thrown around the roo...</td>\n",
       "      <td>3</td>\n",
       "      <td>no everything thrown around room everyti ame r...</td>\n",
       "    </tr>\n",
       "    <tr>\n",
       "      <th>49381</th>\n",
       "      <td>LUL, this is the 3rd time that Ajax has lost t...</td>\n",
       "      <td>3</td>\n",
       "      <td>3rd ti ame ajax lost team busan unlucky</td>\n",
       "    </tr>\n",
       "    <tr>\n",
       "      <th>49382</th>\n",
       "      <td>You got banned for participating in a brigade.</td>\n",
       "      <td>3</td>\n",
       "      <td>got banned participating brigade</td>\n",
       "    </tr>\n",
       "  </tbody>\n",
       "</table>\n",
       "<p>49383 rows × 3 columns</p>\n",
       "</div>"
      ],
      "text/plain": [
       "                                                    Text  Emotion  \\\n",
       "0      i have been with petronas for years i feel tha...        0   \n",
       "1      i do feel that running is a divine experience ...        0   \n",
       "2      i have immense sympathy with the general point...        0   \n",
       "3        i do not feel reassured anxiety is on each side        0   \n",
       "4        i have the feeling she was amused and delighted        0   \n",
       "...                                                  ...      ...   \n",
       "49378  I pity them more than anything. My life's actu...        3   \n",
       "49379  Everytime I see this, I can't help but feel so...        3   \n",
       "49380  Sadly no, everything was thrown around the roo...        3   \n",
       "49381  LUL, this is the 3rd time that Ajax has lost t...        3   \n",
       "49382     You got banned for participating in a brigade.        3   \n",
       "\n",
       "                                              clean_text  \n",
       "0      petronas year feel petronas performed well mad...  \n",
       "1      feel running divine experience expect type spi...  \n",
       "2      ammense sympathy general point possible proto ...  \n",
       "3                        not feel reassured anxiety side  \n",
       "4                               feeling amused delighted  \n",
       "...                                                  ...  \n",
       "49378  pity anything life actually pretty okay genera...  \n",
       "49379   see cant help feel someone force cat paw brownie  \n",
       "49380  no everything thrown around room everyti ame r...  \n",
       "49381            3rd ti ame ajax lost team busan unlucky  \n",
       "49382                   got banned participating brigade  \n",
       "\n",
       "[49383 rows x 3 columns]"
      ]
     },
     "execution_count": 61,
     "metadata": {},
     "output_type": "execute_result"
    }
   ],
   "source": [
    "\n",
    "df['clean_text'] = df['Text'].apply(tweets_cleaning)\n",
    "\n",
    "train_data=df.iloc[:,-1].values\n",
    "df['clean_text']=train_data\n",
    "df"
   ]
  },
  {
   "cell_type": "code",
   "execution_count": 62,
   "metadata": {},
   "outputs": [],
   "source": [
    "import numpy as np\n"
   ]
  },
  {
   "cell_type": "code",
   "execution_count": 63,
   "metadata": {},
   "outputs": [],
   "source": [
    "idx=np.random.randint(0,len(df),1200)\n",
    "Y_array = np.array(df[\"Emotion\"])\n",
    "X_array = np.array(df['clean_text'])\n",
    "\n",
    "\n",
    "X_test=X_array[idx[0:1000]]\n",
    "y_test=Y_array[idx[0:1000]]\n",
    "X_virgin = X_array[idx[1001:1200]]\n",
    "y_virgin = Y_array[idx[1001:1200]]\n",
    "X_train=np.delete(X_array,idx,axis=0)\n",
    "y_train=np.delete(Y_array,idx,axis=0)"
   ]
  },
  {
   "cell_type": "code",
   "execution_count": 64,
   "metadata": {},
   "outputs": [
    {
     "data": {
      "text/plain": [
       "array([1, 2, 1, 1, 1, 0, 1, 1, 1, 1, 0, 0, 3, 0, 1, 0, 1, 0, 2, 1, 2, 3,\n",
       "       0, 2, 3, 0, 2, 1, 1, 2, 0, 1, 3, 3, 3, 3, 1, 2, 0, 1, 2, 0, 0, 3,\n",
       "       0, 1, 1, 2, 0, 1, 3, 1, 3, 3, 0, 0, 3, 1, 2, 3, 3, 2, 3, 0, 3, 2,\n",
       "       3, 0, 2, 2, 1, 3, 3, 2, 0, 3, 3, 0, 1, 2, 1, 1, 0, 3, 3, 0, 3, 0,\n",
       "       1, 0, 3, 3, 1, 1, 1, 2, 1, 0, 2, 1, 2, 0, 1, 3, 1, 3, 2, 1, 0, 0,\n",
       "       1, 2, 3, 3, 0, 0, 3, 1, 3, 3, 3, 2, 1, 2, 3, 3, 2, 1, 3, 2, 3, 2,\n",
       "       3, 2, 1, 0, 3, 2, 2, 0, 2, 3, 0, 3, 2, 1, 3, 1, 1, 2, 1, 3, 2, 1,\n",
       "       3, 1, 0, 1, 0, 3, 0, 2, 2, 2, 2, 3, 1, 1, 1, 2, 0, 0, 0, 1, 1, 0,\n",
       "       0, 1, 0, 1, 0, 0, 1, 3, 2, 1, 3, 1, 3, 3, 2, 3, 2, 0, 2, 3, 1, 1,\n",
       "       1, 2, 1, 2, 0, 1, 1, 1, 3, 1, 3, 3, 0, 2, 2, 1, 2, 2, 1, 3, 1, 3,\n",
       "       2, 1, 3, 2, 3, 3, 2, 0, 1, 3, 0, 0, 3, 2, 2, 1, 2, 2, 3, 0, 1, 3,\n",
       "       3, 0, 1, 3, 3, 0, 3, 2, 3, 0, 2, 3, 2, 3, 0, 1, 1, 1, 3, 0, 2, 3,\n",
       "       0, 0, 0, 0, 0, 2, 0, 2, 1, 3, 3, 3, 3, 1, 3, 1, 0, 0, 3, 0, 0, 3,\n",
       "       3, 0, 0, 3, 1, 3, 1, 1, 2, 3, 2, 3, 0, 1, 3, 0, 3, 2, 2, 1, 3, 1,\n",
       "       3, 3, 2, 2, 0, 1, 3, 0, 0, 1, 0, 2, 3, 2, 1, 3, 0, 1, 0, 3, 2, 3,\n",
       "       2, 3, 1, 3, 0, 2, 1, 1, 1, 2, 3, 3, 0, 1, 2, 3, 1, 3, 1, 2, 3, 1,\n",
       "       3, 3, 2, 2, 0, 3, 3, 2, 2, 3, 0, 3, 2, 3, 2, 3, 3, 3, 3, 3, 2, 0,\n",
       "       2, 1, 0, 3, 1, 0, 1, 3, 2, 0, 0, 1, 3, 3, 3, 3, 0, 2, 3, 2, 2, 1,\n",
       "       3, 0, 3, 0, 2, 3, 3, 2, 3, 0, 3, 1, 0, 3, 0, 1, 2, 3, 2, 3, 3, 3,\n",
       "       3, 3, 2, 3, 1, 1, 0, 1, 0, 2, 0, 1, 0, 1, 0, 3, 2, 2, 0, 0, 2, 0,\n",
       "       2, 3, 0, 2, 3, 3, 2, 0, 0, 3, 1, 0, 3, 2, 1, 2, 2, 1, 0, 3, 1, 3,\n",
       "       2, 3, 2, 1, 1, 0, 2, 3, 3, 2, 3, 0, 3, 3, 2, 2, 3, 1, 3, 2, 2, 1,\n",
       "       1, 2, 0, 1, 2, 3, 3, 3, 0, 0, 2, 0, 2, 1, 3, 0, 3, 2, 0, 0, 3, 3,\n",
       "       0, 1, 1, 2, 1, 0, 0, 2, 0, 1, 1, 0, 3, 3, 2, 1, 3, 0, 0, 3, 1, 0,\n",
       "       0, 2, 2, 3, 1, 2, 1, 0, 3, 2, 1, 0, 1, 1, 3, 3, 3, 3, 2, 3, 0, 2,\n",
       "       0, 1, 1, 2, 1, 3, 1, 1, 2, 1, 3, 3, 0, 3, 1, 0, 3, 3, 3, 0, 0, 0,\n",
       "       1, 3, 1, 2, 0, 0, 2, 1, 2, 2, 3, 0, 0, 3, 1, 0, 3, 2, 1, 2, 3, 2,\n",
       "       0, 0, 1, 3, 1, 2, 0, 0, 1, 0, 3, 2, 3, 1, 1, 3, 3, 2, 1, 2, 1, 2,\n",
       "       3, 3, 1, 2, 3, 3, 0, 3, 0, 0, 3, 3, 1, 3, 3, 0, 1, 3, 0, 3, 3, 3,\n",
       "       3, 0, 1, 1, 3, 3, 3, 2, 2, 1, 0, 1, 0, 3, 1, 1, 1, 1, 2, 1, 3, 0,\n",
       "       0, 3, 3, 3, 0, 3, 2, 2, 2, 0, 3, 3, 0, 0, 1, 3, 2, 0, 1, 3, 2, 1,\n",
       "       2, 3, 1, 3, 1, 2, 0, 2, 3, 3, 0, 3, 1, 0, 2, 1, 0, 3, 2, 0, 2, 1,\n",
       "       2, 0, 0, 0, 1, 2, 0, 2, 0, 2, 2, 2, 1, 3, 2, 1, 0, 3, 2, 0, 2, 3,\n",
       "       0, 2, 1, 3, 3, 3, 0, 0, 3, 1, 2, 2, 3, 0, 3, 1, 3, 3, 2, 3, 3, 3,\n",
       "       1, 2, 2, 3, 3, 3, 3, 2, 0, 3, 0, 0, 3, 2, 3, 2, 2, 0, 2, 2, 3, 1,\n",
       "       1, 3, 1, 0, 2, 2, 0, 1, 0, 0, 2, 2, 0, 2, 1, 2, 2, 2, 1, 2, 3, 3,\n",
       "       2, 2, 1, 3, 1, 1, 3, 2, 0, 0, 3, 1, 1, 0, 3, 1, 3, 3, 3, 3, 0, 1,\n",
       "       3, 2, 2, 2, 1, 1, 2, 3, 3, 3, 1, 2, 2, 0, 0, 1, 3, 0, 1, 1, 1, 1,\n",
       "       0, 1, 0, 0, 0, 1, 2, 0, 3, 2, 1, 1, 2, 2, 3, 1, 0, 1, 3, 1, 0, 0,\n",
       "       0, 2, 3, 0, 1, 2, 0, 0, 2, 2, 2, 0, 2, 0, 1, 3, 3, 3, 3, 0, 2, 3,\n",
       "       2, 0, 2, 1, 0, 1, 0, 0, 0, 1, 3, 0, 3, 1, 2, 3, 3, 3, 0, 0, 2, 3,\n",
       "       3, 3, 3, 2, 0, 1, 2, 0, 0, 3, 3, 0, 0, 2, 1, 0, 0, 1, 3, 2, 3, 1,\n",
       "       3, 0, 3, 2, 3, 1, 2, 3, 2, 1, 2, 0, 0, 3, 0, 3, 0, 3, 3, 0, 1, 3,\n",
       "       2, 0, 1, 3, 0, 2, 0, 3, 1, 0, 0, 3, 2, 3, 2, 3, 2, 1, 2, 2, 3, 2,\n",
       "       2, 2, 0, 3, 2, 0, 1, 3, 0, 3, 0, 2, 0, 3, 1, 2, 0, 2, 0, 1, 0, 2,\n",
       "       1, 2, 3, 0, 3, 3, 0, 0, 0, 0])"
      ]
     },
     "execution_count": 64,
     "metadata": {},
     "output_type": "execute_result"
    }
   ],
   "source": [
    "y_test"
   ]
  },
  {
   "cell_type": "markdown",
   "metadata": {},
   "source": [
    "# Vectorizer"
   ]
  },
  {
   "cell_type": "code",
   "execution_count": 65,
   "metadata": {},
   "outputs": [],
   "source": [
    "from tensorflow.keras.layers import TextVectorization\n",
    "import tensorflow as tf\n",
    "vectorizer = TextVectorization(max_tokens=40000,output_mode='int', output_sequence_length=35,standardize='lower_and_strip_punctuation')\n",
    "\n",
    "\n",
    "\n"
   ]
  },
  {
   "cell_type": "code",
   "execution_count": 66,
   "metadata": {},
   "outputs": [
    {
     "data": {
      "text/plain": [
       "array(['feel running divine experience expect type spiritual encounter',\n",
       "       'ammense sympathy general point possible proto writer trying find ti ame write corner life no sign agent let alone publishing contract feel little precious',\n",
       "       'feeling amused delighted', ...,\n",
       "       'no everything thrown around room everyti ame rebuilt something would annihilated',\n",
       "       '3rd ti ame ajax lost team busan unlucky',\n",
       "       'got banned participating brigade'], dtype=object)"
      ]
     },
     "execution_count": 66,
     "metadata": {},
     "output_type": "execute_result"
    }
   ],
   "source": [
    "vectorizer.adapt(X_train)\n",
    "X_train"
   ]
  },
  {
   "cell_type": "code",
   "execution_count": 67,
   "metadata": {},
   "outputs": [
    {
     "data": {
      "text/plain": [
       "29861"
      ]
     },
     "execution_count": 67,
     "metadata": {},
     "output_type": "execute_result"
    }
   ],
   "source": [
    "len(vectorizer.get_vocabulary())"
   ]
  },
  {
   "cell_type": "code",
   "execution_count": 68,
   "metadata": {},
   "outputs": [],
   "source": [
    "voc = vectorizer.get_vocabulary()\n",
    "word_index = dict(zip(voc, range(len(voc))))"
   ]
  },
  {
   "cell_type": "code",
   "execution_count": 69,
   "metadata": {},
   "outputs": [],
   "source": [
    "#!wget http://nlp.stanford.edu/data/glove.6B.zip\n",
    "#!unzip -q glove.6B.zip"
   ]
  },
  {
   "cell_type": "code",
   "execution_count": 70,
   "metadata": {},
   "outputs": [
    {
     "name": "stdout",
     "output_type": "stream",
     "text": [
      "Found 1193514 word vectors.\n"
     ]
    }
   ],
   "source": [
    "path_to_glove_file = \"glove.twitter.27B.100d.txt\"\n",
    "import numpy as np\n",
    "\n",
    "embeddings_index = {}\n",
    "with open(path_to_glove_file) as f:\n",
    "    for line in f:\n",
    "        word, coefs = line.split(maxsplit=1)\n",
    "        coefs = np.fromstring(coefs, \"f\", sep=\" \")\n",
    "        embeddings_index[word] = coefs\n",
    "\n",
    "print(\"Found %s word vectors.\" % len(embeddings_index))"
   ]
  },
  {
   "cell_type": "code",
   "execution_count": 71,
   "metadata": {},
   "outputs": [
    {
     "name": "stdout",
     "output_type": "stream",
     "text": [
      "Converted 22471 words (7390 misses)\n"
     ]
    }
   ],
   "source": [
    "num_tokens = len(voc) + 2\n",
    "embedding_dim = 100\n",
    "hits = 0\n",
    "misses = 0\n",
    "\n",
    "# Prepare embedding matrix\n",
    "embedding_matrix = np.zeros((num_tokens, embedding_dim))\n",
    "for word, i in word_index.items():\n",
    "    embedding_vector = embeddings_index.get(word)\n",
    "    if embedding_vector is not None:\n",
    "        # Words not found in embedding index will be all-zeros.\n",
    "        # This includes the representation for \"padding\" and \"OOV\"\n",
    "        embedding_matrix[i] = embedding_vector\n",
    "        hits += 1\n",
    "    else:\n",
    "        misses += 1\n",
    "print(\"Converted %d words (%d misses)\" % (hits, misses))"
   ]
  },
  {
   "cell_type": "code",
   "execution_count": 72,
   "metadata": {},
   "outputs": [
    {
     "data": {
      "text/plain": [
       "array(['feel running divine experience expect type spiritual encounter',\n",
       "       'ammense sympathy general point possible proto writer trying find ti ame write corner life no sign agent let alone publishing contract feel little precious',\n",
       "       'feeling amused delighted', ...,\n",
       "       'no everything thrown around room everyti ame rebuilt something would annihilated',\n",
       "       '3rd ti ame ajax lost team busan unlucky',\n",
       "       'got banned participating brigade'], dtype=object)"
      ]
     },
     "execution_count": 72,
     "metadata": {},
     "output_type": "execute_result"
    }
   ],
   "source": [
    "X_train"
   ]
  },
  {
   "cell_type": "markdown",
   "metadata": {},
   "source": [
    "# Model"
   ]
  },
  {
   "cell_type": "code",
   "execution_count": 73,
   "metadata": {},
   "outputs": [
    {
     "name": "stdout",
     "output_type": "stream",
     "text": [
      "Model: \"model_2\"\n",
      "_________________________________________________________________\n",
      " Layer (type)                Output Shape              Param #   \n",
      "=================================================================\n",
      " input_3 (InputLayer)        [(None, 1)]               0         \n",
      "                                                                 \n",
      " text_vectorization_1 (TextV  (None, 35)               0         \n",
      " ectorization)                                                   \n",
      "                                                                 \n",
      " embedding_1 (Embedding)     (None, 35, 100)           2986300   \n",
      "                                                                 \n",
      " dropout_4 (Dropout)         (None, 35, 100)           0         \n",
      "                                                                 \n",
      " conv1d_3 (Conv1D)           (None, 35, 128)           12928     \n",
      "                                                                 \n",
      " max_pooling1d_2 (MaxPooling  (None, 7, 128)           0         \n",
      " 1D)                                                             \n",
      "                                                                 \n",
      " conv1d_4 (Conv1D)           (None, 7, 128)            16512     \n",
      "                                                                 \n",
      " max_pooling1d_3 (MaxPooling  (None, 1, 128)           0         \n",
      " 1D)                                                             \n",
      "                                                                 \n",
      " conv1d_5 (Conv1D)           (None, 1, 128)            16512     \n",
      "                                                                 \n",
      " global_max_pooling1d_1 (Glo  (None, 128)              0         \n",
      " balMaxPooling1D)                                                \n",
      "                                                                 \n",
      " dense_4 (Dense)             (None, 128)               16512     \n",
      "                                                                 \n",
      " dropout_5 (Dropout)         (None, 128)               0         \n",
      "                                                                 \n",
      " dense_5 (Dense)             (None, 35)                4515      \n",
      "                                                                 \n",
      "=================================================================\n",
      "Total params: 3,053,279\n",
      "Trainable params: 66,979\n",
      "Non-trainable params: 2,986,300\n",
      "_________________________________________________________________\n"
     ]
    }
   ],
   "source": [
    "from tensorflow.keras.layers import Embedding\n",
    "from tensorflow.keras import layers\n",
    "\n",
    "embedding_layer = Embedding(\n",
    "    num_tokens,\n",
    "    embedding_dim,\n",
    "    embeddings_initializer=tf.keras.initializers.Constant(embedding_matrix),\n",
    "    #embeddings_initializer = \"uniform\",\n",
    "    trainable=False,\n",
    ")\n",
    "callback = tf.keras.callbacks.EarlyStopping(monitor='val_acc', patience=3, restore_best_weights=True)\n",
    "\n",
    "#int_sequences_input = tf.keras.Input(shape=(None,), dtype=\"int64\")\n",
    "\n",
    "input = tf.keras.Input(shape=(1,), dtype='string')\n",
    "\n",
    "x = vectorizer(input)\n",
    "#x = layers.Dropout(0.2)(x)\n",
    "x = embedding_layer(x)\n",
    "x = layers.Dropout(0.1)(x)\n",
    "x = layers.Conv1D(128, 1, activation=\"relu\")(x)\n",
    "x = layers.MaxPooling1D(5)(x)\n",
    "x = layers.Conv1D(128, 1, activation=\"relu\")(x)\n",
    "x = layers.MaxPooling1D(5)(x)\n",
    "x = layers.Conv1D(128, 1, activation=\"relu\")(x)\n",
    "x = layers.GlobalMaxPooling1D()(x)\n",
    "x = layers.Dense(128, activation=\"relu\")(x)\n",
    "x = layers.Dropout(0.2)(x)\n",
    "preds = layers.Dense(nb_labels, activation=\"softmax\")(x)\n",
    "model = tf.keras.Model(input, preds)\n",
    "model.summary()"
   ]
  },
  {
   "cell_type": "code",
   "execution_count": 83,
   "metadata": {},
   "outputs": [
    {
     "name": "stdout",
     "output_type": "stream",
     "text": [
      "Model: \"model_4\"\n",
      "_________________________________________________________________\n",
      " Layer (type)                Output Shape              Param #   \n",
      "=================================================================\n",
      " input_5 (InputLayer)        [(None, 1)]               0         \n",
      "                                                                 \n",
      " text_vectorization_1 (TextV  (None, 35)               0         \n",
      " ectorization)                                                   \n",
      "                                                                 \n",
      " embedding_1 (Embedding)     (None, 35, 100)           2986300   \n",
      "                                                                 \n",
      " dropout_8 (Dropout)         (None, 35, 100)           0         \n",
      "                                                                 \n",
      " bidirectional_4 (Bidirectio  (None, 35, 200)          160800    \n",
      " nal)                                                            \n",
      "                                                                 \n",
      " bidirectional_5 (Bidirectio  (None, 200)              240800    \n",
      " nal)                                                            \n",
      "                                                                 \n",
      " dense_8 (Dense)             (None, 64)                12864     \n",
      "                                                                 \n",
      " dropout_9 (Dropout)         (None, 64)                0         \n",
      "                                                                 \n",
      " dense_9 (Dense)             (None, 35)                2275      \n",
      "                                                                 \n",
      "=================================================================\n",
      "Total params: 3,403,039\n",
      "Trainable params: 416,739\n",
      "Non-trainable params: 2,986,300\n",
      "_________________________________________________________________\n"
     ]
    }
   ],
   "source": [
    "input = tf.keras.Input(shape=(1,), dtype='string')\n",
    "\n",
    "x = vectorizer(input)\n",
    "#x = layers.Dropout(0.2)(x)\n",
    "x = embedding_layer(x)\n",
    "x = layers.Dropout(0.1)(x)\n",
    "x = layers.Bidirectional(tf.keras.layers.LSTM(100,return_sequences=True))(x)\n",
    "x = layers.Bidirectional(tf.keras.layers.LSTM(100))(x)\n",
    "x = layers.Dense(64, activation='relu')(x)\n",
    "x = layers.Dropout(0.2)(x)\n",
    "preds = layers.Dense(nb_labels, activation=\"softmax\")(x)\n",
    "modelLSTM = tf.keras.Model(input, preds)\n",
    "modelLSTM.summary()"
   ]
  },
  {
   "cell_type": "code",
   "execution_count": 84,
   "metadata": {},
   "outputs": [],
   "source": [
    "# x_train = vectorizer(np.array([[s] for s in X_train])).numpy()\n",
    "# x_val = vectorizer(np.array([[s] for s in X_test])).numpy()\n",
    "# x_virgin = vectorizer(np.array([[s] for s in X_virgin])).numpy()\n",
    "\n",
    "y_train = np.array(y_train)\n",
    "y_val = np.array(y_test)\n",
    "y_virgin = np.array(y_virgin)"
   ]
  },
  {
   "cell_type": "code",
   "execution_count": 85,
   "metadata": {},
   "outputs": [
    {
     "name": "stdout",
     "output_type": "stream",
     "text": [
      "Epoch 1/100\n",
      "377/377 [==============================] - 81s 195ms/step - loss: 1.7145 - acc: 0.3743 - val_loss: 1.0412 - val_acc: 0.5750\n",
      "Epoch 2/100\n",
      "377/377 [==============================] - 66s 175ms/step - loss: 1.0743 - acc: 0.5587 - val_loss: 0.9598 - val_acc: 0.6100\n",
      "Epoch 3/100\n",
      "377/377 [==============================] - 63s 167ms/step - loss: 0.9759 - acc: 0.6063 - val_loss: 0.9010 - val_acc: 0.6350\n",
      "Epoch 4/100\n",
      "377/377 [==============================] - 64s 169ms/step - loss: 0.9263 - acc: 0.6251 - val_loss: 0.8530 - val_acc: 0.6520\n",
      "Epoch 5/100\n",
      "377/377 [==============================] - 68s 179ms/step - loss: 0.8908 - acc: 0.6424 - val_loss: 0.8400 - val_acc: 0.6630\n",
      "Epoch 6/100\n",
      "377/377 [==============================] - 75s 200ms/step - loss: 0.8620 - acc: 0.6532 - val_loss: 0.8137 - val_acc: 0.6800\n",
      "Epoch 7/100\n",
      "377/377 [==============================] - 79s 208ms/step - loss: 0.8353 - acc: 0.6642 - val_loss: 0.7983 - val_acc: 0.6770\n",
      "Epoch 8/100\n",
      "377/377 [==============================] - 57s 150ms/step - loss: 0.8091 - acc: 0.6773 - val_loss: 0.7806 - val_acc: 0.6780\n",
      "Epoch 9/100\n",
      "377/377 [==============================] - 54s 142ms/step - loss: 0.7892 - acc: 0.6841 - val_loss: 0.7488 - val_acc: 0.6940\n",
      "Epoch 10/100\n",
      "377/377 [==============================] - 58s 155ms/step - loss: 0.7691 - acc: 0.6950 - val_loss: 0.7759 - val_acc: 0.6880\n",
      "Epoch 11/100\n",
      "377/377 [==============================] - 68s 182ms/step - loss: 0.7506 - acc: 0.7002 - val_loss: 0.7290 - val_acc: 0.6900\n",
      "Epoch 12/100\n",
      "377/377 [==============================] - 70s 187ms/step - loss: 0.7347 - acc: 0.7069 - val_loss: 0.7149 - val_acc: 0.7140\n",
      "Epoch 13/100\n",
      "377/377 [==============================] - 66s 174ms/step - loss: 0.7230 - acc: 0.7116 - val_loss: 0.7174 - val_acc: 0.7050\n",
      "Epoch 14/100\n",
      "377/377 [==============================] - 66s 174ms/step - loss: 0.7059 - acc: 0.7189 - val_loss: 0.6941 - val_acc: 0.7250\n",
      "Epoch 15/100\n",
      "189/377 [==============>...............] - ETA: 34s - loss: 0.7007 - acc: 0.7250"
     ]
    }
   ],
   "source": [
    "modelLSTM.compile(\n",
    "    loss=\"sparse_categorical_crossentropy\", optimizer=Adam(learning_rate=0.0001), metrics=[\"acc\"]\n",
    ")\n",
    "modelLSTM.fit(X_train, y_train, batch_size=128, epochs=100, validation_data=(X_test, y_val),callbacks=[callback])"
   ]
  },
  {
   "cell_type": "code",
   "execution_count": null,
   "metadata": {},
   "outputs": [
    {
     "name": "stdout",
     "output_type": "stream",
     "text": [
      "Epoch 1/100\n",
      "377/377 [==============================] - 6s 15ms/step - loss: 1.9323 - acc: 0.2894 - val_loss: 1.2693 - val_acc: 0.4900\n",
      "Epoch 2/100\n",
      "377/377 [==============================] - 6s 15ms/step - loss: 1.2142 - acc: 0.4642 - val_loss: 1.0321 - val_acc: 0.5910\n",
      "Epoch 3/100\n",
      "377/377 [==============================] - 6s 15ms/step - loss: 1.0408 - acc: 0.5625 - val_loss: 0.9399 - val_acc: 0.6350\n",
      "Epoch 4/100\n",
      "377/377 [==============================] - 5s 14ms/step - loss: 0.9628 - acc: 0.6031 - val_loss: 0.8890 - val_acc: 0.6420\n",
      "Epoch 5/100\n",
      "377/377 [==============================] - 5s 14ms/step - loss: 0.9184 - acc: 0.6263 - val_loss: 0.8542 - val_acc: 0.6640\n",
      "Epoch 6/100\n",
      "377/377 [==============================] - 5s 14ms/step - loss: 0.8851 - acc: 0.6415 - val_loss: 0.8300 - val_acc: 0.6740\n",
      "Epoch 7/100\n",
      "377/377 [==============================] - 5s 14ms/step - loss: 0.8609 - acc: 0.6539 - val_loss: 0.8070 - val_acc: 0.6820\n",
      "Epoch 8/100\n",
      "377/377 [==============================] - 5s 14ms/step - loss: 0.8421 - acc: 0.6632 - val_loss: 0.7889 - val_acc: 0.6890\n",
      "Epoch 9/100\n",
      "377/377 [==============================] - 5s 14ms/step - loss: 0.8269 - acc: 0.6706 - val_loss: 0.7750 - val_acc: 0.6920\n",
      "Epoch 10/100\n",
      "377/377 [==============================] - 5s 14ms/step - loss: 0.8103 - acc: 0.6773 - val_loss: 0.7700 - val_acc: 0.6890\n",
      "Epoch 11/100\n",
      "377/377 [==============================] - 5s 14ms/step - loss: 0.7978 - acc: 0.6811 - val_loss: 0.7485 - val_acc: 0.6980\n",
      "Epoch 12/100\n",
      "377/377 [==============================] - 5s 14ms/step - loss: 0.7874 - acc: 0.6858 - val_loss: 0.7414 - val_acc: 0.6970\n",
      "Epoch 13/100\n",
      "377/377 [==============================] - 5s 14ms/step - loss: 0.7765 - acc: 0.6913 - val_loss: 0.7300 - val_acc: 0.7030\n",
      "Epoch 14/100\n",
      "377/377 [==============================] - 6s 15ms/step - loss: 0.7697 - acc: 0.6931 - val_loss: 0.7238 - val_acc: 0.7050\n",
      "Epoch 15/100\n",
      "377/377 [==============================] - 6s 15ms/step - loss: 0.7581 - acc: 0.6987 - val_loss: 0.7127 - val_acc: 0.7060\n",
      "Epoch 16/100\n",
      "377/377 [==============================] - 5s 14ms/step - loss: 0.7529 - acc: 0.6996 - val_loss: 0.7093 - val_acc: 0.7060\n",
      "Epoch 17/100\n",
      "377/377 [==============================] - 5s 14ms/step - loss: 0.7446 - acc: 0.7035 - val_loss: 0.6968 - val_acc: 0.7140\n",
      "Epoch 18/100\n",
      "377/377 [==============================] - 5s 14ms/step - loss: 0.7375 - acc: 0.7071 - val_loss: 0.6943 - val_acc: 0.7130\n",
      "Epoch 19/100\n",
      "377/377 [==============================] - 5s 14ms/step - loss: 0.7319 - acc: 0.7075 - val_loss: 0.6833 - val_acc: 0.7290\n",
      "Epoch 20/100\n",
      "377/377 [==============================] - 5s 14ms/step - loss: 0.7259 - acc: 0.7101 - val_loss: 0.6810 - val_acc: 0.7240\n",
      "Epoch 21/100\n",
      "377/377 [==============================] - 5s 14ms/step - loss: 0.7175 - acc: 0.7146 - val_loss: 0.6749 - val_acc: 0.7230\n",
      "Epoch 22/100\n",
      "377/377 [==============================] - 6s 15ms/step - loss: 0.7127 - acc: 0.7167 - val_loss: 0.6656 - val_acc: 0.7310\n",
      "Epoch 23/100\n",
      "377/377 [==============================] - 6s 16ms/step - loss: 0.7059 - acc: 0.7188 - val_loss: 0.6628 - val_acc: 0.7340\n",
      "Epoch 24/100\n",
      "377/377 [==============================] - 6s 15ms/step - loss: 0.7039 - acc: 0.7199 - val_loss: 0.6572 - val_acc: 0.7310\n",
      "Epoch 25/100\n",
      "377/377 [==============================] - 6s 15ms/step - loss: 0.6977 - acc: 0.7220 - val_loss: 0.6521 - val_acc: 0.7370\n",
      "Epoch 26/100\n",
      "377/377 [==============================] - 5s 14ms/step - loss: 0.6956 - acc: 0.7237 - val_loss: 0.6491 - val_acc: 0.7350\n",
      "Epoch 27/100\n",
      "377/377 [==============================] - 5s 14ms/step - loss: 0.6901 - acc: 0.7258 - val_loss: 0.6482 - val_acc: 0.7330\n",
      "Epoch 28/100\n",
      "377/377 [==============================] - 5s 14ms/step - loss: 0.6858 - acc: 0.7266 - val_loss: 0.6442 - val_acc: 0.7390\n",
      "Epoch 29/100\n",
      "377/377 [==============================] - 5s 15ms/step - loss: 0.6816 - acc: 0.7272 - val_loss: 0.6371 - val_acc: 0.7450\n",
      "Epoch 30/100\n",
      "377/377 [==============================] - 5s 14ms/step - loss: 0.6795 - acc: 0.7305 - val_loss: 0.6355 - val_acc: 0.7410\n",
      "Epoch 31/100\n",
      "377/377 [==============================] - 5s 14ms/step - loss: 0.6744 - acc: 0.7307 - val_loss: 0.6341 - val_acc: 0.7460\n",
      "Epoch 32/100\n",
      "377/377 [==============================] - 5s 14ms/step - loss: 0.6682 - acc: 0.7348 - val_loss: 0.6294 - val_acc: 0.7450\n",
      "Epoch 33/100\n",
      "377/377 [==============================] - 5s 14ms/step - loss: 0.6667 - acc: 0.7356 - val_loss: 0.6258 - val_acc: 0.7490\n",
      "Epoch 34/100\n",
      "377/377 [==============================] - 5s 14ms/step - loss: 0.6626 - acc: 0.7387 - val_loss: 0.6218 - val_acc: 0.7510\n",
      "Epoch 35/100\n",
      "377/377 [==============================] - 6s 15ms/step - loss: 0.6611 - acc: 0.7402 - val_loss: 0.6147 - val_acc: 0.7540\n",
      "Epoch 36/100\n",
      "377/377 [==============================] - 6s 15ms/step - loss: 0.6547 - acc: 0.7429 - val_loss: 0.6145 - val_acc: 0.7560\n",
      "Epoch 37/100\n",
      "377/377 [==============================] - 6s 15ms/step - loss: 0.6518 - acc: 0.7408 - val_loss: 0.6139 - val_acc: 0.7590\n",
      "Epoch 38/100\n",
      "377/377 [==============================] - 5s 14ms/step - loss: 0.6481 - acc: 0.7450 - val_loss: 0.6085 - val_acc: 0.7580\n",
      "Epoch 39/100\n",
      "377/377 [==============================] - 5s 14ms/step - loss: 0.6467 - acc: 0.7462 - val_loss: 0.6038 - val_acc: 0.7610\n",
      "Epoch 40/100\n",
      "377/377 [==============================] - 5s 15ms/step - loss: 0.6431 - acc: 0.7472 - val_loss: 0.6046 - val_acc: 0.7700\n",
      "Epoch 41/100\n",
      "377/377 [==============================] - 5s 14ms/step - loss: 0.6386 - acc: 0.7457 - val_loss: 0.6013 - val_acc: 0.7650\n",
      "Epoch 42/100\n",
      "377/377 [==============================] - 6s 16ms/step - loss: 0.6355 - acc: 0.7476 - val_loss: 0.5964 - val_acc: 0.7730\n",
      "Epoch 43/100\n",
      "377/377 [==============================] - 6s 15ms/step - loss: 0.6330 - acc: 0.7505 - val_loss: 0.5975 - val_acc: 0.7640\n",
      "Epoch 44/100\n",
      "377/377 [==============================] - 6s 15ms/step - loss: 0.6292 - acc: 0.7523 - val_loss: 0.5920 - val_acc: 0.7740\n",
      "Epoch 45/100\n",
      "377/377 [==============================] - 6s 15ms/step - loss: 0.6277 - acc: 0.7528 - val_loss: 0.5901 - val_acc: 0.7720\n",
      "Epoch 46/100\n",
      "377/377 [==============================] - 6s 16ms/step - loss: 0.6252 - acc: 0.7550 - val_loss: 0.5884 - val_acc: 0.7830\n",
      "Epoch 47/100\n",
      "377/377 [==============================] - 6s 15ms/step - loss: 0.6244 - acc: 0.7540 - val_loss: 0.5898 - val_acc: 0.7770\n",
      "Epoch 48/100\n",
      "377/377 [==============================] - 5s 14ms/step - loss: 0.6207 - acc: 0.7549 - val_loss: 0.5864 - val_acc: 0.7690\n",
      "Epoch 49/100\n",
      "377/377 [==============================] - 6s 15ms/step - loss: 0.6176 - acc: 0.7563 - val_loss: 0.5822 - val_acc: 0.7820\n"
     ]
    },
    {
     "data": {
      "text/plain": [
       "<keras.callbacks.History at 0x7ff970405bb0>"
      ]
     },
     "execution_count": 77,
     "metadata": {},
     "output_type": "execute_result"
    }
   ],
   "source": [
    "model.compile(\n",
    "    loss=\"sparse_categorical_crossentropy\", optimizer=Adam(learning_rate=0.00005), metrics=[\"acc\"]\n",
    ")\n",
    "model.fit(X_train, y_train, batch_size=128, epochs=100, validation_data=(X_test, y_val),callbacks=[callback])"
   ]
  },
  {
   "cell_type": "code",
   "execution_count": null,
   "metadata": {},
   "outputs": [
    {
     "name": "stdout",
     "output_type": "stream",
     "text": [
      "              precision    recall  f1-score   support\n",
      "\n",
      "       happy       0.69      0.74      0.71        50\n",
      "     sadness       0.58      0.69      0.63        36\n",
      "        fear       0.76      0.58      0.66        55\n",
      "        love       0.70      0.72      0.71        58\n",
      "\n",
      "    accuracy                           0.68       199\n",
      "   macro avg       0.68      0.69      0.68       199\n",
      "weighted avg       0.69      0.68      0.68       199\n",
      "\n"
     ]
    }
   ],
   "source": [
    "predicted_Y = modelLSTM.predict(X_virgin)\n",
    "y_classes = predicted_Y.argmax(axis=-1)\n",
    "y_classes\n",
    "from sklearn import metrics\n",
    "categories = ['happy','sadness','fear','love']\n",
    "print(metrics.classification_report(y_virgin, y_classes, target_names=categories))"
   ]
  },
  {
   "cell_type": "code",
   "execution_count": null,
   "metadata": {},
   "outputs": [],
   "source": [
    "#modelLSTM.save('model_KaggleLSTM')"
   ]
  },
  {
   "cell_type": "code",
   "execution_count": null,
   "metadata": {},
   "outputs": [],
   "source": [
    "# from keras import models\n",
    "# model_2 = models.load_model('model_KaggleLSTM')"
   ]
  },
  {
   "cell_type": "code",
   "execution_count": null,
   "metadata": {},
   "outputs": [
    {
     "name": "stdout",
     "output_type": "stream",
     "text": [
      "              precision    recall  f1-score   support\n",
      "\n",
      "       happy       0.72      0.82      0.77        50\n",
      "     sadness       0.63      0.81      0.71        36\n",
      "        fear       0.81      0.64      0.71        55\n",
      "        love       0.79      0.72      0.76        58\n",
      "\n",
      "    accuracy                           0.74       199\n",
      "   macro avg       0.74      0.75      0.74       199\n",
      "weighted avg       0.75      0.74      0.74       199\n",
      "\n"
     ]
    }
   ],
   "source": [
    "predicted_Y = model.predict(X_virgin)\n",
    "y_classes = predicted_Y.argmax(axis=-1)\n",
    "y_classes\n",
    "from sklearn import metrics\n",
    "categories = ['happy','sadness','fear','love']\n",
    "print(metrics.classification_report(y_virgin, y_classes, target_names=categories))"
   ]
  },
  {
   "cell_type": "code",
   "execution_count": null,
   "metadata": {},
   "outputs": [],
   "source": []
  },
  {
   "cell_type": "code",
   "execution_count": null,
   "metadata": {},
   "outputs": [
    {
     "ename": "ValueError",
     "evalue": "Number of classes, 4, does not match size of target_names, 5. Try specifying the labels parameter",
     "output_type": "error",
     "traceback": [
      "\u001b[0;31m---------------------------------------------------------------------------\u001b[0m",
      "\u001b[0;31mValueError\u001b[0m                                Traceback (most recent call last)",
      "\u001b[0;32m/tmp/ipykernel_5952/1073645619.py\u001b[0m in \u001b[0;36m<module>\u001b[0;34m\u001b[0m\n\u001b[1;32m      1\u001b[0m \u001b[0;32mfrom\u001b[0m \u001b[0msklearn\u001b[0m \u001b[0;32mimport\u001b[0m \u001b[0mmetrics\u001b[0m\u001b[0;34m\u001b[0m\u001b[0;34m\u001b[0m\u001b[0m\n\u001b[1;32m      2\u001b[0m \u001b[0mcategories\u001b[0m \u001b[0;34m=\u001b[0m \u001b[0;34m[\u001b[0m\u001b[0;34m'happy'\u001b[0m\u001b[0;34m,\u001b[0m\u001b[0;34m'sadness'\u001b[0m\u001b[0;34m,\u001b[0m\u001b[0;34m'anger'\u001b[0m\u001b[0;34m,\u001b[0m\u001b[0;34m'fear'\u001b[0m\u001b[0;34m,\u001b[0m\u001b[0;34m'love'\u001b[0m\u001b[0;34m]\u001b[0m\u001b[0;34m\u001b[0m\u001b[0;34m\u001b[0m\u001b[0m\n\u001b[0;32m----> 3\u001b[0;31m \u001b[0mprint\u001b[0m\u001b[0;34m(\u001b[0m\u001b[0mmetrics\u001b[0m\u001b[0;34m.\u001b[0m\u001b[0mclassification_report\u001b[0m\u001b[0;34m(\u001b[0m\u001b[0my_virgin\u001b[0m\u001b[0;34m,\u001b[0m \u001b[0my_classes\u001b[0m\u001b[0;34m,\u001b[0m \u001b[0mtarget_names\u001b[0m\u001b[0;34m=\u001b[0m\u001b[0mcategories\u001b[0m\u001b[0;34m)\u001b[0m\u001b[0;34m)\u001b[0m\u001b[0;34m\u001b[0m\u001b[0;34m\u001b[0m\u001b[0m\n\u001b[0m",
      "\u001b[0;32m~/anaconda3/lib/python3.9/site-packages/sklearn/metrics/_classification.py\u001b[0m in \u001b[0;36mclassification_report\u001b[0;34m(y_true, y_pred, labels, target_names, sample_weight, digits, output_dict, zero_division)\u001b[0m\n\u001b[1;32m   2130\u001b[0m             )\n\u001b[1;32m   2131\u001b[0m         \u001b[0;32melse\u001b[0m\u001b[0;34m:\u001b[0m\u001b[0;34m\u001b[0m\u001b[0;34m\u001b[0m\u001b[0m\n\u001b[0;32m-> 2132\u001b[0;31m             raise ValueError(\n\u001b[0m\u001b[1;32m   2133\u001b[0m                 \u001b[0;34m\"Number of classes, {0}, does not match size of \"\u001b[0m\u001b[0;34m\u001b[0m\u001b[0;34m\u001b[0m\u001b[0m\n\u001b[1;32m   2134\u001b[0m                 \u001b[0;34m\"target_names, {1}. Try specifying the labels \"\u001b[0m\u001b[0;34m\u001b[0m\u001b[0;34m\u001b[0m\u001b[0m\n",
      "\u001b[0;31mValueError\u001b[0m: Number of classes, 4, does not match size of target_names, 5. Try specifying the labels parameter"
     ]
    }
   ],
   "source": [
    "\n",
    "test = ['I feel a bit sad today','Today, mom died','Jane and I argued yesterday, despite that ','I am not happy']\n",
    "test = tweets_cleaning(test)\n",
    "predicted_Y = modelLSTM.predict(test)\n",
    "y_classes = predicted_Y.argmax(axis=-1)\n",
    "y_classes"
   ]
  }
 ],
 "metadata": {
  "interpreter": {
   "hash": "1e47ff65e698837991555106773f24a709ab70f1ee4f12e4b360efeec51aba84"
  },
  "kernelspec": {
   "display_name": "Python 3.9.7 ('base')",
   "language": "python",
   "name": "python3"
  },
  "language_info": {
   "codemirror_mode": {
    "name": "ipython",
    "version": 3
   },
   "file_extension": ".py",
   "mimetype": "text/x-python",
   "name": "python",
   "nbconvert_exporter": "python",
   "pygments_lexer": "ipython3",
   "version": "3.9.7"
  },
  "orig_nbformat": 4
 },
 "nbformat": 4,
 "nbformat_minor": 2
}
